{
  "cells": [
    {
      "cell_type": "markdown",
      "metadata": {
        "id": "view-in-github",
        "colab_type": "text"
      },
      "source": [
        "<a href=\"https://colab.research.google.com/github/Zulfadly-MU/T3-Zulfadly-Syahpahlevi_230907502035-Data-Cleaning-Uji-coba/blob/main/T3_Zulfadly_Syahpahlevi_230907502035_Data_Cleaning.ipynb\" target=\"_parent\"><img src=\"https://colab.research.google.com/assets/colab-badge.svg\" alt=\"Open In Colab\"/></a>"
      ]
    },
    {
      "cell_type": "markdown",
      "metadata": {
        "id": "xEWpayxURuUn"
      },
      "source": [
        "# Crawl Data Twitter 1000 Baris\n",
        "Tugas Crawling data twitter matakuliah Social media analysis dari Zulfadly Syahpahlevi (230907502035)\n",
        "\n"
      ]
    },
    {
      "cell_type": "code",
      "source": [],
      "metadata": {
        "id": "fak7cckpyloL"
      },
      "execution_count": null,
      "outputs": []
    },
    {
      "cell_type": "code",
      "source": [],
      "metadata": {
        "id": "Xqnhlf3_ylyn"
      },
      "execution_count": null,
      "outputs": []
    },
    {
      "cell_type": "code",
      "source": [
        "import pandas as pd\n",
        "import re\n",
        "import nltk\n",
        "from nltk.corpus import stopwords\n",
        "from nltk.sentiment import SentimentIntensityAnalyzer\n",
        "import matplotlib.pyplot as plt\n",
        "\n",
        "# Download stopwords & VADER if not yet\n",
        "nltk.download('stopwords')\n",
        "nltk.download('vader_lexicon')\n",
        "\n",
        "# 1. Baca dataset\n",
        "# Ganti 'Manchester_United.csv' dengan path file Anda jika perlu\n",
        "try:\n",
        "    df = pd.read_csv('/content/tweets-data/Manchester_United.csv')\n",
        "    print(\"File CSV berhasil dimuat.\")\n",
        "except FileNotFoundError:\n",
        "    print(\"Error: File 'Manchester_United.csv' tidak ditemukan. Pastikan file berada di direktori yang benar.\")\n",
        "    # exit() # Removed exit() to allow subsequent NameError if file not found\n",
        "\n",
        "# Asumsi ada kolom bernama 'text' atau serupa, ubah sesuai nama kolom asli\n",
        "# text_column = df.columns[0]  # ambil kolom pertama jika tidak tahu namanya\n",
        "text_column = 'full_text' # Use the 'full_text' column for analysis\n",
        "\n",
        "# 2. Preprocessing teks\n",
        "stop_words = set(stopwords.words('indonesian'))\n",
        "\n",
        "def clean_text(text):\n",
        "    text = str(text).lower()\n",
        "    text = re.sub(r'http\\S+', '', text)  # hapus URL\n",
        "    text = re.sub(r'[^a-zA-Z\\s]', '', text)  # hapus tanda baca\n",
        "    tokens = text.split()\n",
        "    tokens = [w for w in tokens if w not in stop_words]\n",
        "    return \" \".join(tokens)\n",
        "\n",
        "df['clean_text'] = df[text_column].apply(clean_text)\n",
        "\n",
        "# Add print statements to debug the clean_text column\n",
        "print(\"\\nDataFrame columns after cleaning:\")\n",
        "print(df.columns)\n",
        "print(\"\\nPreview Data after cleaning:\")\n",
        "print(df.head())\n",
        "\n",
        "# Print some non-empty cleaned text entries for debugging\n",
        "print(\"\\nSome non-empty clean_text entries:\")\n",
        "non_empty_clean_text = df[df['clean_text'] != '']['clean_text'].head()\n",
        "if not non_empty_clean_text.empty:\n",
        "    for text in non_empty_clean_text:\n",
        "        print(text)\n",
        "else:\n",
        "    print(\"No non-empty clean_text entries found.\")\n",
        "\n",
        "\n",
        "# 3. Definisi aspek (manual rule-based)\n",
        "aspects = {\n",
        "    \"pemain\": [\"pemain\", \"rashford\", \"bruno\", \"garnacho\", \"maguirre\", \"ronaldo\"],\n",
        "    \"pelatih\": [\"pelatih\", \"ten hag\", \"mourinho\", \"sir alex\"],\n",
        "    \"pertandingan\": [\"pertandingan\", \"match\", \"laga\", \"menang\", \"kalah\", \"seri\"],\n",
        "    \"transfer\": [\"transfer\", \"kontrak\", \"jual\", \"beli\", \"pinjam\"]\n",
        "}\n",
        "\n",
        "# 4. Analisis Sentimen (VADER)\n",
        "sia = SentimentIntensityAnalyzer()\n",
        "\n",
        "def get_sentiment(text):\n",
        "    score = sia.polarity_scores(text)\n",
        "    if score['compound'] >= 0.05:\n",
        "        return \"positif\"\n",
        "    elif score['compound'] <= -0.05:\n",
        "        return \"negatif\"\n",
        "    else:\n",
        "        return \"netral\"\n",
        "\n",
        "# 5. Deteksi aspek per kalimat + sentimen\n",
        "results = []\n",
        "for index, row in df.iterrows(): # Iterate through rows using iterrows()\n",
        "    sentiment = get_sentiment(row['clean_text'])\n",
        "    for aspect, keywords in aspects.items():\n",
        "        if any(kw in row['clean_text'] for kw in keywords):\n",
        "            results.append({\"teks\": row['clean_text'], \"aspek\": aspect, \"sentimen\": sentiment})\n",
        "\n",
        "results_df = pd.DataFrame(results)\n",
        "print(\"\\nHasil Analisis Aspek:\")\n",
        "print(results_df.head())\n",
        "\n",
        "# 6. Visualisasi distribusi\n",
        "if not results_df.empty:\n",
        "    plt.figure(figsize=(8,5))\n",
        "    results_df.groupby([\"aspek\",\"sentimen\"]).size().unstack().plot(kind=\"bar\", stacked=True)\n",
        "    plt.title(\"Distribusi Sentimen per Aspek\")\n",
        "    plt.ylabel(\"Jumlah\")\n",
        "    plt.show()\n",
        "else:\n",
        "    print(\"\\nNo aspects found in the text to plot.\")"
      ],
      "metadata": {
        "colab": {
          "base_uri": "https://localhost:8080/",
          "height": 1000
        },
        "id": "oF9iQhJeyl36",
        "outputId": "46add132-6123-4cf0-cce0-7c61b46a7adf"
      },
      "execution_count": 6,
      "outputs": [
        {
          "output_type": "stream",
          "name": "stderr",
          "text": [
            "[nltk_data] Downloading package stopwords to /root/nltk_data...\n",
            "[nltk_data]   Package stopwords is already up-to-date!\n",
            "[nltk_data] Downloading package vader_lexicon to /root/nltk_data...\n",
            "[nltk_data]   Package vader_lexicon is already up-to-date!\n"
          ]
        },
        {
          "output_type": "stream",
          "name": "stdout",
          "text": [
            "Error: File 'Manchester_United.csv' tidak ditemukan. Pastikan file berada di direktori yang benar.\n",
            "\n",
            "DataFrame columns after cleaning:\n",
            "Index(['conversation_id_str', 'created_at', 'favorite_count', 'full_text',\n",
            "       'id_str', 'image_url', 'in_reply_to_screen_name', 'lang', 'location',\n",
            "       'quote_count', 'reply_count', 'retweet_count', 'tweet_url',\n",
            "       'user_id_str', 'username', 'clean_text'],\n",
            "      dtype='object')\n",
            "\n",
            "Preview Data after cleaning:\n",
            "   conversation_id_str                      created_at  favorite_count  \\\n",
            "0  1965003796813414877  Mon Sep 08 11:00:29 +0000 2025               0   \n",
            "1  1965002267955986786  Mon Sep 08 10:40:23 +0000 2025               0   \n",
            "2  1964999838942343439  Mon Sep 08 10:30:44 +0000 2025             708   \n",
            "3  1964998713123971504  Mon Sep 08 10:26:15 +0000 2025               0   \n",
            "4  1964998437721813039  Mon Sep 08 10:25:16 +0000 2025               0   \n",
            "\n",
            "                                           full_text               id_str  \\\n",
            "0  @bbstvug Ye #AndreOanana kennyini olunaku lwey...  1965007328144728171   \n",
            "1  Kocha Erik Ten Hag alichukua uamuzi wa kumuach...  1965002267955986786   \n",
            "2   RESMI : UEFA menjatuhkan sanksi larangan berm...  1964999838942343439   \n",
            "3            Jersey ya Manchester United inakaa poa.  1964998713123971504   \n",
            "4  Adapun kabar bahwa ada pihak Qatar yang siap m...  1964998464615629099   \n",
            "\n",
            "                                         image_url in_reply_to_screen_name  \\\n",
            "0                                              NaN                 bbstvug   \n",
            "1  https://pbs.twimg.com/media/G0UXJgmWMAAUtO5.jpg                     NaN   \n",
            "2  https://pbs.twimg.com/media/G0UU8JDWQAA6hlS.jpg                     NaN   \n",
            "3                                              NaN                     NaN   \n",
            "4                                              NaN         TheLilywhitesID   \n",
            "\n",
            "  lang  location  quote_count  reply_count  retweet_count  \\\n",
            "0   in       NaN            0            0              0   \n",
            "1   in       NaN            0            1              0   \n",
            "2   in       NaN            2           19             18   \n",
            "3   in       NaN            0            2              0   \n",
            "4   in       NaN            0            0              0   \n",
            "\n",
            "                                           tweet_url          user_id_str  \\\n",
            "0  https://x.com/undefined/status/196500732814472...  1742146803842027520   \n",
            "1  https://x.com/undefined/status/196500226795598...   711696269929017345   \n",
            "2  https://x.com/undefined/status/196499983894234...  1222927522033094656   \n",
            "3  https://x.com/undefined/status/196499871312397...            567086347   \n",
            "4  https://x.com/undefined/status/196499846461562...  1749649306569908224   \n",
            "\n",
            "   username                                         clean_text  \n",
            "0       NaN  bbstvug ye andreoanana kennyini olunaku lweyas...  \n",
            "1       NaN  kocha erik ten hag alichukua uamuzi wa kumuach...  \n",
            "2       NaN  resmi uefa menjatuhkan sanksi larangan bermain...  \n",
            "3       NaN             jersey ya manchester united inakaa poa  \n",
            "4       NaN  kabar qatar masuk pasca kegagalan sheikh jassi...  \n",
            "\n",
            "Some non-empty clean_text entries:\n",
            "bbstvug ye andreoanana kennyini olunaku lweyasalawo okuziika career ye neyeegatta ku manchester united fc kitalo nnyo\n",
            "kocha erik ten hag alichukua uamuzi wa kumuacha david de gea aondoke bure na kumsajili andr onana hatua ambayo sasa imegeuka kuwa changamoto kubwa kwa manchester united\n",
            "resmi uefa menjatuhkan sanksi larangan bermain bek athletic yeray alvarez cb yeray dinyatakan positif tes doping uefa tampil leg semifinal liga europa melawan manchester united mei\n",
            "jersey ya manchester united inakaa poa\n",
            "kabar qatar masuk pasca kegagalan sheikh jassim membeli manchester united dibantah sumber internal sumber jacobsben via givemesport\n",
            "\n",
            "Hasil Analisis Aspek:\n",
            "                                                teks         aspek sentimen\n",
            "0  kocha erik ten hag alichukua uamuzi wa kumuach...       pelatih  positif\n",
            "1  kabar qatar masuk pasca kegagalan sheikh jassi...      transfer  positif\n",
            "2  uefa resmi menjatuhi sanksi skors yeray alvare...  pertandingan  positif\n",
            "3  happy birthday bruno fernandes satusatunya pem...        pemain  positif\n",
            "4  andr onana resmi bergabung trabzonspor status ...      transfer  positif\n"
          ]
        },
        {
          "output_type": "display_data",
          "data": {
            "text/plain": [
              "<Figure size 800x500 with 0 Axes>"
            ]
          },
          "metadata": {}
        },
        {
          "output_type": "display_data",
          "data": {
            "text/plain": [
              "<Figure size 640x480 with 1 Axes>"
            ],
            "image/png": "[encoded data removed]"
          },
          "metadata": {}
        }
      ]
    }
  ],
  "metadata": {
    "colab": {
      "provenance": [],
      "include_colab_link": true
    },
    "kernelspec": {
      "display_name": "Python 3",
      "name": "python3"
    },
    "language_info": {
      "name": "python"
    }
  },
  "nbformat": 4,
  "nbformat_minor": 0
}